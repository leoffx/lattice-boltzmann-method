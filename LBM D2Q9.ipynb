{
 "cells": [
  {
   "cell_type": "code",
   "execution_count": 1,
   "metadata": {},
   "outputs": [],
   "source": [
    "import numpy as np\n",
    "import matplotlib.pyplot as plt"
   ]
  },
  {
   "cell_type": "code",
   "execution_count": 2,
   "metadata": {},
   "outputs": [],
   "source": [
    "nx,ny = 420,180 #tamanho do quadro\n",
    "r = ny//9\n",
    "uLB = .04 #fluxo na entrada, não mudar\n",
    "Re = 220. #reynolds\n",
    "nulb = uLB *r/Re #viscosidade\n",
    "omega = 1/(3*nulb+.5) #parametro de relaxaçao\n",
    "\n",
    "\n",
    "\n",
    "np.random.seed(1)\n",
    "\n",
    "f = np.zeros((9,8,8))\n",
    "fin = np.random.rand(9,nx,ny)\n",
    "fout = np.zeros((9,nx,ny))\n",
    "\n",
    "#densidade da celula\n",
    "rho = np.sum(fin, axis=0)\n",
    "\n",
    "#vetor de velocidades da celula\n",
    "v = np.array([[1,1,1,0,0,0,-1,-1,-1],[1,0,-1,1,0,-1,1,0,-1]]).T\n",
    "\n",
    "#velocidade\n",
    "u = np.zeros((2,nx,ny))\n",
    "for i in range(9):\n",
    "    u[0,:,:] += v[i,0] * fin[i,:,:]\n",
    "    u[1,:,:] += v[i,1] * fin[i,:,:]\n",
    "u /= rho"
   ]
  },
  {
   "cell_type": "code",
   "execution_count": 3,
   "metadata": {},
   "outputs": [],
   "source": [
    "###collision###\n",
    "#equilibro\n",
    "\n",
    "t=np.array([1/36,1/9,1/36,1/9,4/9,1/9,1/36,1/9,1/36])\n",
    "\n",
    "def equilibrio(rho, u):\n",
    "    uquad = 3/2 * (u[0]**2+u[1]**2) #velocidade ao quadrado\n",
    "    eq = np.zeros((9,nx,ny))\n",
    "    for i in range(9):\n",
    "        vu = 3*(v[i,0]*u[0,:,:]+v[i,1]*u[1,:,:]) #produto v*u\n",
    "        eq[i,:,:] = rho * t[i] * (1 + vu + .5*vu**2-uquad)\n",
    "    return eq\n",
    "\n",
    "feq = equilibrio(rho, u)\n",
    "fout = fin - omega*(fin-feq)"
   ]
  },
  {
   "cell_type": "code",
   "execution_count": 16,
   "metadata": {
    "scrolled": true
   },
   "outputs": [],
   "source": [
    "wall = np.zeros((nx,ny))\n",
    "wall[0,:] = 1\n",
    "wall[-1,:] = 1\n",
    "wall = np.array(wall, dtype=bool)\n",
    "\n",
    "#inflow\n",
    "col1 = np.array([0,1,2])\n",
    "col2 = np.array([3,4,5])\n",
    "col3 = np.array([6,7,8])\n",
    "\n",
    "rho[0,:]= 1/(1-u[0,0,:]) * (np.sum(fin[col2,0,:], axis=0) + 2* np.sum(fin[col3,0,:], axis=0)) #densidade\n",
    "fin[[0,1,2],0,:] = feq[[0,1,2],0,:] + fin[[8,7,6],0,:] - feq[[8,7,6],0,:] #population\n",
    "\n",
    "#outflow\n",
    "fin[col3,-1,:] = fin[col3,-2,:]\n",
    "\n",
    "\n",
    "###streaming###\n",
    "for i in range(9):\n",
    "    fin[i,:,:] = np.roll(np.roll(fout[i,:,:],v[i,0], axis=0),v[i,1],axis=1)\n",
    "    \n",
    "    fout[i,wall]= fin[8-i,wall]"
   ]
  },
  {
   "cell_type": "code",
   "execution_count": 15,
   "metadata": {},
   "outputs": [],
   "source": [
    "fig = plt.figure()\n",
    "ax = fig.add_subplot(111)\n",
    "im = ax.imshow(np.random.random((5,5)))\n",
    "plt.show(block=False)\n",
    "\n",
    "\n",
    "for i in range(10):\n",
    "    #resolver a equaçao\n",
    "    \n",
    "    time.sleep(1)    \n",
    "    im.set_array(\"\"\"resultado aqui\"\"\")    \n",
    "    fig.canvas.draw()"
   ]
  },
  {
   "cell_type": "code",
   "execution_count": null,
   "metadata": {},
   "outputs": [],
   "source": []
  }
 ],
 "metadata": {
  "kernelspec": {
   "display_name": "Python 3",
   "language": "python",
   "name": "python3"
  },
  "language_info": {
   "codemirror_mode": {
    "name": "ipython",
    "version": 3
   },
   "file_extension": ".py",
   "mimetype": "text/x-python",
   "name": "python",
   "nbconvert_exporter": "python",
   "pygments_lexer": "ipython3",
   "version": "3.6.5"
  }
 },
 "nbformat": 4,
 "nbformat_minor": 2
}
